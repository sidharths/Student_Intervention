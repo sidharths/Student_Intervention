{
 "metadata": {
  "kernelspec": {
   "display_name": "Python 2",
   "language": "python",
   "name": "python2"
  },
  "language_info": {
   "codemirror_mode": {
    "name": "ipython",
    "version": 2
   },
   "file_extension": ".py",
   "mimetype": "text/x-python",
   "name": "python",
   "nbconvert_exporter": "python",
   "pygments_lexer": "ipython2",
   "version": "2.7.11"
  },
  "name": ""
 },
 "nbformat": 3,
 "nbformat_minor": 0,
 "worksheets": [
  {
   "cells": [
    {
     "cell_type": "markdown",
     "metadata": {},
     "source": [
      "# Machine Learning Engineer Nanodegree\n",
      "## Supervised Learning\n",
      "## Project 2: Building a Student Intervention System"
     ]
    },
    {
     "cell_type": "markdown",
     "metadata": {},
     "source": [
      "Welcome to the second project of the Machine Learning Engineer Nanodegree! In this notebook, some template code has already been provided for you, and it will be your job to implement the additional functionality necessary to successfully complete this project. Sections that begin with **'Implementation'** in the header indicate that the following block of code will require additional functionality which you must provide. Instructions will be provided for each section and the specifics of the implementation are marked in the code block with a `'TODO'` statement. Please be sure to read the instructions carefully!\n",
      "\n",
      "In addition to implementing code, there will be questions that you must answer which relate to the project and your implementation. Each section where you will answer a question is preceded by a **'Question X'** header. Carefully read each question and provide thorough answers in the following text boxes that begin with **'Answer:'**. Your project submission will be evaluated based on your answers to each of the questions and the implementation you provide.  \n",
      "\n",
      ">**Note:** Code and Markdown cells can be executed using the **Shift + Enter** keyboard shortcut. In addition, Markdown cells can be edited by typically double-clicking the cell to enter edit mode."
     ]
    },
    {
     "cell_type": "markdown",
     "metadata": {},
     "source": [
      "### Question 1 - Classification vs. Regression\n",
      "*Your goal for this project is to identify students who might need early intervention before they fail to graduate. Which type of supervised learning problem is this, classification or regression? Why?*"
     ]
    },
    {
     "cell_type": "markdown",
     "metadata": {},
     "source": [
      "**Answer: ** \n",
      "\n",
      "<font color='blue'> \n",
      "Since the question is clearly having a binary answer (yes or no on whether to intervene, same as fail or pass prediction), hence this is essentially a classification problem.\n",
      "</font>"
     ]
    },
    {
     "cell_type": "markdown",
     "metadata": {},
     "source": [
      "## Exploring the Data\n",
      "Run the code cell below to load necessary Python libraries and load the student data. Note that the last column from this dataset, `'passed'`, will be our target label (whether the student graduated or didn't graduate). All other columns are features about each student."
     ]
    },
    {
     "cell_type": "code",
     "collapsed": false,
     "input": [
      "# Import libraries\n",
      "import numpy as np\n",
      "import pandas as pd\n",
      "from time import time\n",
      "from sklearn.metrics import f1_score\n",
      "\n",
      "# Read student data\n",
      "student_data = pd.read_csv(\"student-data.csv\")\n",
      "print \"Student data read successfully!\"\n",
      "student_data.head()"
     ],
     "language": "python",
     "metadata": {},
     "outputs": [
      {
       "output_type": "stream",
       "stream": "stdout",
       "text": [
        "Student data read successfully!\n"
       ]
      },
      {
       "html": [
        "<div>\n",
        "<table border=\"1\" class=\"dataframe\">\n",
        "  <thead>\n",
        "    <tr style=\"text-align: right;\">\n",
        "      <th></th>\n",
        "      <th>school</th>\n",
        "      <th>sex</th>\n",
        "      <th>age</th>\n",
        "      <th>address</th>\n",
        "      <th>famsize</th>\n",
        "      <th>Pstatus</th>\n",
        "      <th>Medu</th>\n",
        "      <th>Fedu</th>\n",
        "      <th>Mjob</th>\n",
        "      <th>Fjob</th>\n",
        "      <th>...</th>\n",
        "      <th>internet</th>\n",
        "      <th>romantic</th>\n",
        "      <th>famrel</th>\n",
        "      <th>freetime</th>\n",
        "      <th>goout</th>\n",
        "      <th>Dalc</th>\n",
        "      <th>Walc</th>\n",
        "      <th>health</th>\n",
        "      <th>absences</th>\n",
        "      <th>passed</th>\n",
        "    </tr>\n",
        "  </thead>\n",
        "  <tbody>\n",
        "    <tr>\n",
        "      <th>0</th>\n",
        "      <td>GP</td>\n",
        "      <td>F</td>\n",
        "      <td>18</td>\n",
        "      <td>U</td>\n",
        "      <td>GT3</td>\n",
        "      <td>A</td>\n",
        "      <td>4</td>\n",
        "      <td>4</td>\n",
        "      <td>at_home</td>\n",
        "      <td>teacher</td>\n",
        "      <td>...</td>\n",
        "      <td>no</td>\n",
        "      <td>no</td>\n",
        "      <td>4</td>\n",
        "      <td>3</td>\n",
        "      <td>4</td>\n",
        "      <td>1</td>\n",
        "      <td>1</td>\n",
        "      <td>3</td>\n",
        "      <td>6</td>\n",
        "      <td>no</td>\n",
        "    </tr>\n",
        "    <tr>\n",
        "      <th>1</th>\n",
        "      <td>GP</td>\n",
        "      <td>F</td>\n",
        "      <td>17</td>\n",
        "      <td>U</td>\n",
        "      <td>GT3</td>\n",
        "      <td>T</td>\n",
        "      <td>1</td>\n",
        "      <td>1</td>\n",
        "      <td>at_home</td>\n",
        "      <td>other</td>\n",
        "      <td>...</td>\n",
        "      <td>yes</td>\n",
        "      <td>no</td>\n",
        "      <td>5</td>\n",
        "      <td>3</td>\n",
        "      <td>3</td>\n",
        "      <td>1</td>\n",
        "      <td>1</td>\n",
        "      <td>3</td>\n",
        "      <td>4</td>\n",
        "      <td>no</td>\n",
        "    </tr>\n",
        "    <tr>\n",
        "      <th>2</th>\n",
        "      <td>GP</td>\n",
        "      <td>F</td>\n",
        "      <td>15</td>\n",
        "      <td>U</td>\n",
        "      <td>LE3</td>\n",
        "      <td>T</td>\n",
        "      <td>1</td>\n",
        "      <td>1</td>\n",
        "      <td>at_home</td>\n",
        "      <td>other</td>\n",
        "      <td>...</td>\n",
        "      <td>yes</td>\n",
        "      <td>no</td>\n",
        "      <td>4</td>\n",
        "      <td>3</td>\n",
        "      <td>2</td>\n",
        "      <td>2</td>\n",
        "      <td>3</td>\n",
        "      <td>3</td>\n",
        "      <td>10</td>\n",
        "      <td>yes</td>\n",
        "    </tr>\n",
        "    <tr>\n",
        "      <th>3</th>\n",
        "      <td>GP</td>\n",
        "      <td>F</td>\n",
        "      <td>15</td>\n",
        "      <td>U</td>\n",
        "      <td>GT3</td>\n",
        "      <td>T</td>\n",
        "      <td>4</td>\n",
        "      <td>2</td>\n",
        "      <td>health</td>\n",
        "      <td>services</td>\n",
        "      <td>...</td>\n",
        "      <td>yes</td>\n",
        "      <td>yes</td>\n",
        "      <td>3</td>\n",
        "      <td>2</td>\n",
        "      <td>2</td>\n",
        "      <td>1</td>\n",
        "      <td>1</td>\n",
        "      <td>5</td>\n",
        "      <td>2</td>\n",
        "      <td>yes</td>\n",
        "    </tr>\n",
        "    <tr>\n",
        "      <th>4</th>\n",
        "      <td>GP</td>\n",
        "      <td>F</td>\n",
        "      <td>16</td>\n",
        "      <td>U</td>\n",
        "      <td>GT3</td>\n",
        "      <td>T</td>\n",
        "      <td>3</td>\n",
        "      <td>3</td>\n",
        "      <td>other</td>\n",
        "      <td>other</td>\n",
        "      <td>...</td>\n",
        "      <td>no</td>\n",
        "      <td>no</td>\n",
        "      <td>4</td>\n",
        "      <td>3</td>\n",
        "      <td>2</td>\n",
        "      <td>1</td>\n",
        "      <td>2</td>\n",
        "      <td>5</td>\n",
        "      <td>4</td>\n",
        "      <td>yes</td>\n",
        "    </tr>\n",
        "  </tbody>\n",
        "</table>\n",
        "<p>5 rows \u00d7 31 columns</p>\n",
        "</div>"
       ],
       "metadata": {},
       "output_type": "pyout",
       "prompt_number": 4,
       "text": [
        "  school sex  age address famsize Pstatus  Medu  Fedu     Mjob      Fjob  \\\n",
        "0     GP   F   18       U     GT3       A     4     4  at_home   teacher   \n",
        "1     GP   F   17       U     GT3       T     1     1  at_home     other   \n",
        "2     GP   F   15       U     LE3       T     1     1  at_home     other   \n",
        "3     GP   F   15       U     GT3       T     4     2   health  services   \n",
        "4     GP   F   16       U     GT3       T     3     3    other     other   \n",
        "\n",
        "   ...   internet romantic  famrel  freetime  goout Dalc Walc health absences  \\\n",
        "0  ...         no       no       4         3      4    1    1      3        6   \n",
        "1  ...        yes       no       5         3      3    1    1      3        4   \n",
        "2  ...        yes       no       4         3      2    2    3      3       10   \n",
        "3  ...        yes      yes       3         2      2    1    1      5        2   \n",
        "4  ...         no       no       4         3      2    1    2      5        4   \n",
        "\n",
        "  passed  \n",
        "0     no  \n",
        "1     no  \n",
        "2    yes  \n",
        "3    yes  \n",
        "4    yes  \n",
        "\n",
        "[5 rows x 31 columns]"
       ]
      }
     ],
     "prompt_number": 4
    },
    {
     "cell_type": "markdown",
     "metadata": {},
     "source": [
      "### Implementation: Data Exploration\n",
      "Let's begin by investigating the dataset to determine how many students we have information on, and learn about the graduation rate among these students. In the code cell below, you will need to compute the following:\n",
      "- The total number of students, `n_students`.\n",
      "- The total number of features for each student, `n_features`.\n",
      "- The number of those students who passed, `n_passed`.\n",
      "- The number of those students who failed, `n_failed`.\n",
      "- The graduation rate of the class, `grad_rate`, in percent (%).\n"
     ]
    },
    {
     "cell_type": "code",
     "collapsed": false,
     "input": [
      "# TODO: Calculate number of students\n",
      "n_students = len(student_data)  \n",
      " \n",
      "# TODO: Calculate number of features\n",
      "n_features = len(student_data.columns[0:-1])  \n",
      "\n",
      "# TODO: Calculate passing students\n",
      "n_passed = sum (student_data.passed == 'yes') \n",
      "\n",
      "# TODO: Calculate failing students\n",
      "n_failed = sum( student_data.passed == 'no')  \n",
      "\n",
      "# TODO: Calculate graduation rate\n",
      "grad_rate = (1.0*n_passed/n_students)*100.0\n",
      "\n",
      "# Print the results\n",
      "print \"Total number of students: {}\".format(n_students)\n",
      "print \"Number of features: {}\".format(n_features)\n",
      "print \"Number of students who passed: {}\".format(n_passed)\n",
      "print \"Number of students who failed: {}\".format(n_failed)\n",
      "print \"Graduation rate of the class: {:.2f}%\".format(grad_rate)"
     ],
     "language": "python",
     "metadata": {},
     "outputs": [
      {
       "output_type": "stream",
       "stream": "stdout",
       "text": [
        "Total number of students: 395\n",
        "Number of features: 30\n",
        "Number of students who passed: 265\n",
        "Number of students who failed: 130\n",
        "Graduation rate of the class: 67.09%\n"
       ]
      }
     ],
     "prompt_number": 5
    },
    {
     "cell_type": "markdown",
     "metadata": {},
     "source": [
      "## Preparing the Data\n",
      "In this section, we will prepare the data for modeling, training and testing.\n",
      "\n",
      "### Identify feature and target columns\n",
      "It is often the case that the data you obtain contains non-numeric features. This can be a problem, as most machine learning algorithms expect numeric data to perform computations with.\n",
      "\n",
      "Run the code cell below to separate the student data into feature and target columns to see if any features are non-numeric."
     ]
    },
    {
     "cell_type": "code",
     "collapsed": false,
     "input": [
      "# Extract feature columns\n",
      "feature_cols = list(student_data.columns[:-1])\n",
      "\n",
      "# Extract target column 'passed'\n",
      "target_col = student_data.columns[-1] \n",
      "\n",
      "# Show the list of columns\n",
      "print \"Feature columns:\\n{}\".format(feature_cols)\n",
      "print \"\\nTarget column: {}\".format(target_col)\n",
      "\n",
      "# Separate the data into feature data and target data (X_all and y_all, respectively)\n",
      "X_all = student_data[feature_cols]\n",
      "y_all = student_data[target_col]\n",
      "\n",
      "# Show the feature information by printing the first five rows\n",
      "print \"\\nFeature values:\"\n",
      "print X_all.head()\n",
      "print y_all.head()"
     ],
     "language": "python",
     "metadata": {},
     "outputs": [
      {
       "output_type": "stream",
       "stream": "stdout",
       "text": [
        "Feature columns:\n",
        "['school', 'sex', 'age', 'address', 'famsize', 'Pstatus', 'Medu', 'Fedu', 'Mjob', 'Fjob', 'reason', 'guardian', 'traveltime', 'studytime', 'failures', 'schoolsup', 'famsup', 'paid', 'activities', 'nursery', 'higher', 'internet', 'romantic', 'famrel', 'freetime', 'goout', 'Dalc', 'Walc', 'health', 'absences']\n",
        "\n",
        "Target column: passed\n",
        "\n",
        "Feature values:\n",
        "  school sex  age address famsize Pstatus  Medu  Fedu     Mjob      Fjob  \\\n",
        "0     GP   F   18       U     GT3       A     4     4  at_home   teacher   \n",
        "1     GP   F   17       U     GT3       T     1     1  at_home     other   \n",
        "2     GP   F   15       U     LE3       T     1     1  at_home     other   \n",
        "3     GP   F   15       U     GT3       T     4     2   health  services   \n",
        "4     GP   F   16       U     GT3       T     3     3    other     other   \n",
        "\n",
        "    ...    higher internet  romantic  famrel  freetime goout Dalc Walc health  \\\n",
        "0   ...       yes       no        no       4         3     4    1    1      3   \n",
        "1   ...       yes      yes        no       5         3     3    1    1      3   \n",
        "2   ...       yes      yes        no       4         3     2    2    3      3   \n",
        "3   ...       yes      yes       yes       3         2     2    1    1      5   \n",
        "4   ...       yes       no        no       4         3     2    1    2      5   \n",
        "\n",
        "  absences  \n",
        "0        6  \n",
        "1        4  \n",
        "2       10  \n",
        "3        2  \n",
        "4        4  \n",
        "\n",
        "[5 rows x 30 columns]\n",
        "0     no\n",
        "1     no\n",
        "2    yes\n",
        "3    yes\n",
        "4    yes\n",
        "Name: passed, dtype: object\n"
       ]
      }
     ],
     "prompt_number": 7
    },
    {
     "cell_type": "markdown",
     "metadata": {},
     "source": [
      "### Preprocess Feature Columns\n",
      "\n",
      "As you can see, there are several non-numeric columns that need to be converted! Many of them are simply `yes`/`no`, e.g. `internet`. These can be reasonably converted into `1`/`0` (binary) values.\n",
      "\n",
      "Other columns, like `Mjob` and `Fjob`, have more than two values, and are known as _categorical variables_. The recommended way to handle such a column is to create as many columns as possible values (e.g. `Fjob_teacher`, `Fjob_other`, `Fjob_services`, etc.), and assign a `1` to one of them and `0` to all others.\n",
      "\n",
      "These generated columns are sometimes called _dummy variables_, and we will use the [`pandas.get_dummies()`](http://pandas.pydata.org/pandas-docs/stable/generated/pandas.get_dummies.html?highlight=get_dummies#pandas.get_dummies) function to perform this transformation. Run the code cell below to perform the preprocessing routine discussed in this section."
     ]
    },
    {
     "cell_type": "code",
     "collapsed": false,
     "input": [
      "def preprocess_features(X):\n",
      "    ''' Preprocesses the student data and converts non-numeric binary variables into\n",
      "        binary (0/1) variables. Converts categorical variables into dummy variables. '''\n",
      "    \n",
      "    # Initialize new output DataFrame\n",
      "    output = pd.DataFrame(index = X.index)\n",
      "\n",
      "    # Investigate each feature column for the data\n",
      "    for col, col_data in X.iteritems():\n",
      "        \n",
      "        # If data type is non-numeric, replace all yes/no values with 1/0\n",
      "        if col_data.dtype == object:\n",
      "            col_data = col_data.replace(['yes', 'no'], [1, 0])\n",
      "\n",
      "        # If data type is categorical, convert to dummy variables\n",
      "        if col_data.dtype == object:\n",
      "            # Example: 'school' => 'school_GP' and 'school_MS'\n",
      "            col_data = pd.get_dummies(col_data, prefix = col)  \n",
      "        \n",
      "        # Collect the revised columns\n",
      "        output = output.join(col_data)\n",
      "    \n",
      "    return output\n",
      "\n",
      "X_all = preprocess_features(X_all)\n",
      "print \"Processed feature columns ({} total features):\\n{}\".format(len(X_all.columns), list(X_all.columns)) "
     ],
     "language": "python",
     "metadata": {},
     "outputs": [
      {
       "output_type": "stream",
       "stream": "stdout",
       "text": [
        "Processed feature columns (48 total features):\n",
        "['school_GP', 'school_MS', 'sex_F', 'sex_M', 'age', 'address_R', 'address_U', 'famsize_GT3', 'famsize_LE3', 'Pstatus_A', 'Pstatus_T', 'Medu', 'Fedu', 'Mjob_at_home', 'Mjob_health', 'Mjob_other', 'Mjob_services', 'Mjob_teacher', 'Fjob_at_home', 'Fjob_health', 'Fjob_other', 'Fjob_services', 'Fjob_teacher', 'reason_course', 'reason_home', 'reason_other', 'reason_reputation', 'guardian_father', 'guardian_mother', 'guardian_other', 'traveltime', 'studytime', 'failures', 'schoolsup', 'famsup', 'paid', 'activities', 'nursery', 'higher', 'internet', 'romantic', 'famrel', 'freetime', 'goout', 'Dalc', 'Walc', 'health', 'absences']\n"
       ]
      }
     ],
     "prompt_number": 8
    },
    {
     "cell_type": "markdown",
     "metadata": {},
     "source": [
      "### Implementation: Training and Testing Data Split\n",
      "So far, we have converted all _categorical_ features into numeric values. For the next step, we split the data (both features and corresponding labels) into training and test sets. In the following code cell below, you will need to implement the following:\n",
      "- Randomly shuffle and split the data (`X_all`, `y_all`) into training and testing subsets.\n",
      "  - Use 300 training points (approximately 75%) and 95 testing points (approximately 25%).\n",
      "  - Set a `random_state` for the function(s) you use, if provided.\n",
      "  - Store the results in `X_train`, `X_test`, `y_train`, and `y_test`."
     ]
    },
    {
     "cell_type": "code",
     "collapsed": false,
     "input": [
      "# TODO: Import any additional functionality you may need here\n",
      "from sklearn.cross_validation import ShuffleSplit\n",
      "from sklearn import cross_validation\n",
      "\n",
      "# TODO: Set the number of training points\n",
      "num_train = 300\n",
      "\n",
      "# Set the number of testing points\n",
      "num_test = n_students - num_train\n",
      "\n",
      "# TODO: Shuffle and split the dataset into the number of training and testing points above\n",
      "X_train = []\n",
      "X_test = []\n",
      "y_train = []\n",
      "y_test = []\n",
      "\n",
      "'''\n",
      "ss = ShuffleSplit(n=n_students, n_iter=3, test_size=num_test, train_size=num_train,random_state=0)\n",
      "\n",
      "for train_index, test_index in ss:\n",
      "    print train_index, test_index\n",
      "    for i in range(len(train_index)):\n",
      "       X_train.append(  X_all[train_index[i]])\n",
      "       y_train.append(  y_all[train_index[i]])\n",
      "    for i in range(len(test_index)):\n",
      "       X_test.append(  X_all[test_index[i]])\n",
      "       y_test.append(  y_all[test_index[i]])\n",
      "'''        \n",
      "\n",
      "X_train, X_test, y_train, y_test = cross_validation.train_test_split(X_all, y_all, test_size=num_test, random_state=1)\n",
      "\n",
      "# Show the results of the split\n",
      "print \"Training set has {} samples.\".format(X_train.shape[0])\n",
      "print \"Testing set has {} samples.\".format(X_test.shape[0])"
     ],
     "language": "python",
     "metadata": {},
     "outputs": [
      {
       "output_type": "stream",
       "stream": "stdout",
       "text": [
        "Training set has 300 samples.\n",
        "Testing set has 95 samples.\n"
       ]
      }
     ],
     "prompt_number": 9
    },
    {
     "cell_type": "markdown",
     "metadata": {},
     "source": [
      "## Training and Evaluating Models\n",
      "In this section, you will choose 3 supervised learning models that are appropriate for this problem and available in `scikit-learn`. You will first discuss the reasoning behind choosing these three models by considering what you know about the data and each model's strengths and weaknesses. You will then fit the model to varying sizes of training data (100 data points, 200 data points, and 300 data points) and measure the F<sub>1</sub> score. You will need to produce three tables (one for each model) that shows the training set size, training time, prediction time, F<sub>1</sub> score on the training set, and F<sub>1</sub> score on the testing set."
     ]
    },
    {
     "cell_type": "markdown",
     "metadata": {},
     "source": [
      "### Question 2 - Model Application\n",
      "*List three supervised learning models that are appropriate for this problem. What are the general applications of each model? What are their strengths and weaknesses? Given what you know about the data, why did you choose these models to be applied?*"
     ]
    },
    {
     "cell_type": "markdown",
     "metadata": {},
     "source": [
      "**Answer: ** \n",
      "\n",
      "\n",
      "<font color='blue'> \n",
      "The three supervised learning models we are going to use are \n",
      "</font>\n",
      "\n",
      "**Logistic Regression**\n",
      "<font color='blue'> \n",
      "Logistic regression is used in many fields, including the medical and social sciences. For instance it can be used to predict whether a patient has a disease like diabetes or heart conditions based on various attributes like age, sex, blood pressure ... Similar applications also exist in engineering, buisness etc. \n",
      "<br>\n",
      "<br>\n",
      "Its advantage is that it is a fast, simple algorithm good for binary classification. Its disadvantage is that it needs large  datasets to get stable and meaningful results. Hence for small datasets it is prone to underfitting. \n",
      "<br>\n",
      "<br>\n",
      "Our 48 features each have binary response which makes logistic regression a good model. In reality it is not reasonable to believe all the 48 features are linearly dependent on the final outcome. For this reason too logistic regression is a good model since it deals with non-linearity well. Also for reasons of speed and simplicity it is a model of choice.\n",
      "</font>\n",
      "<br>\n",
      "<br>\n",
      "<br>\n",
      "<br>\n",
      "**Support Vector Machines**\n",
      "\n",
      "<font color='blue'> \n",
      "Support vector machines can be used to recognize hand written characters, and categorization of textual data and images. \n",
      "<br>\n",
      "<br>\n",
      "It works well   in binary classification problems with large number of attributes. Its also easy to visualise in lower dimensions. The disadvantage is its sensitivity to kernel choice and parameters. Another con is that it doesnt generalise well to cases when we have more features than data.\n",
      "<br>\n",
      "<br>\n",
      "SVM's are a great choice when we have large number of features. This is certainly true for oue case where we have 48 features for a dataset of size 395. Which is why SVM is one of my top three choice.\n",
      "</font>\n",
      "<br>\n",
      "<br>\n",
      "<br>\n",
      "<br>\n",
      "\n",
      "**Decision Trees**\n",
      "\n",
      "<font color='blue'> \n",
      "Decision trees are used in many fields like financial   (predictive analytics), physics (particle  detection) etc. The pros of using decision treses are that it is a simple and easy to understand model, which works well with large data, and is computationally cheap.  The cons of using decision trees are that they can create over-complex trees that do not generalise well from the training data and also overfitting will happen for large and deep decision trees.\n",
      "\n",
      "<br>\n",
      "<br>\n",
      "For our problem we choose Decision Tree classifier as one of the models for its speed, cheapness, easy visualisation and interpetation, all of which are important factors for a school concerned with cost, resources and efficiency. Also since our dataset is not immensely huge we can expect that our tree is not a very deep and complex one, thereby avoiding one of its cons.\n",
      "</font>\n"
     ]
    },
    {
     "cell_type": "markdown",
     "metadata": {},
     "source": [
      "### Setup\n",
      "Run the code cell below to initialize three helper functions which you can use for training and testing the three supervised learning models you've chosen above. The functions are as follows:\n",
      "- `train_classifier` - takes as input a classifier and training data and fits the classifier to the data.\n",
      "- `predict_labels` - takes as input a fit classifier, features, and a target labeling and makes predictions using the F<sub>1</sub> score.\n",
      "- `train_predict` - takes as input a classifier, and the training and testing data, and performs `train_clasifier` and `predict_labels`.\n",
      " - This function will report the F<sub>1</sub> score for both the training and testing data separately."
     ]
    },
    {
     "cell_type": "code",
     "collapsed": false,
     "input": [
      "def train_classifier(clf, X_train, y_train):\n",
      "    ''' Fits a classifier to the training data. '''\n",
      "    \n",
      "    # Start the clock, train the classifier, then stop the clock\n",
      "    start = time()\n",
      "    clf.fit(X_train, y_train)\n",
      "    end = time()\n",
      "    \n",
      "    # Print the results\n",
      "    print \"Trained model in {:.4f} seconds\".format(end - start)\n",
      "\n",
      "    \n",
      "def predict_labels(clf, features, target):\n",
      "    ''' Makes predictions using a fit classifier based on F1 score. '''\n",
      "    \n",
      "    # Start the clock, make predictions, then stop the clock\n",
      "    start = time()\n",
      "    y_pred = clf.predict(features)\n",
      "    end = time()\n",
      "    \n",
      "    # Print and return results\n",
      "    print \"Made predictions in {:.4f} seconds.\".format(end - start)\n",
      "    return f1_score(target.values, y_pred, pos_label='yes')\n",
      "\n",
      "\n",
      "def train_predict(clf, X_train, y_train, X_test, y_test):\n",
      "    ''' Train and predict using a classifer based on F1 score. '''\n",
      "    \n",
      "    # Indicate the classifier and the training set size\n",
      "    print \"Training a {} using a training set size of {}. . .\".format(clf.__class__.__name__, len(X_train))\n",
      "    \n",
      "    # Train the classifier\n",
      "    train_classifier(clf, X_train, y_train)\n",
      "    \n",
      "    # Print the results of prediction for both training and testing\n",
      "    print \"F1 score for training set: {:.4f}.\".format(predict_labels(clf, X_train, y_train))\n",
      "    print \"F1 score for test set: {:.4f}.\".format(predict_labels(clf, X_test, y_test))"
     ],
     "language": "python",
     "metadata": {},
     "outputs": [],
     "prompt_number": 11
    },
    {
     "cell_type": "markdown",
     "metadata": {},
     "source": [
      "### Implementation: Model Performance Metrics\n",
      "With the predefined functions above, you will now import the three supervised learning models of your choice and run the `train_predict` function for each one. Remember that you will need to train and predict on each classifier for three different training set sizes: 100, 200, and 300. Hence, you should expect to have 9 different outputs below \u2014 3 for each model using the varying training set sizes. In the following code cell, you will need to implement the following:\n",
      "- Import the three supervised learning models you've discussed in the previous section.\n",
      "- Initialize the three models and store them in `clf_A`, `clf_B`, and `clf_C`.\n",
      " - Use a `random_state` for each model you use, if provided.\n",
      " - **Note:** Use the default settings for each model \u2014 you will tune one specific model in a later section.\n",
      "- Create the different training set sizes to be used to train each model.\n",
      " - *Do not reshuffle and resplit the data! The new training points should be drawn from `X_train` and `y_train`.*\n",
      "- Fit each model with each training set size and make predictions on the test set (9 in total).  \n",
      "**Note:** Three tables are provided after the following code cell which can be used to store your results."
     ]
    },
    {
     "cell_type": "code",
     "collapsed": false,
     "input": [
      "# TODO: Import the three supervised learning models from sklearn\n",
      "from sklearn.linear_model import LogisticRegression\n",
      "from sklearn.svm import  SVC\n",
      "from sklearn.tree import  DecisionTreeClassifier \n",
      "\n",
      "# TODO: Initialize the three models\n",
      "clf_A = LogisticRegression( )\n",
      "clf_B = SVC()\n",
      "clf_C = DecisionTreeClassifier()\n",
      "\n",
      "# TODO: Set up the training set sizes\n",
      "clf_list=[clf_A,clf_B,clf_C] \n",
      "\n",
      "for clf in clf_list:\n",
      "    print \"Classifier now being tested \" + clf.__class__.__name__+ \" \\n\"\n",
      "    for j in range(100, 400, 100): \n",
      "        train_predict(clf , X_train[:j],y_train[:j], X_test,y_test)   \n",
      "        print \" \\n\"\n",
      "        \n",
      "# TODO: Execute the 'train_predict' function for each classifier and each training set size\n",
      "# train_predict(clf, X_train, y_train, X_test, y_test)"
     ],
     "language": "python",
     "metadata": {},
     "outputs": [
      {
       "output_type": "stream",
       "stream": "stdout",
       "text": [
        "Classifier now being tested LogisticRegression \n",
        "\n",
        "Training a LogisticRegression using a training set size of 100. . .\n",
        "Trained model in 0.0020 seconds\n",
        "Made predictions in 0.0020 seconds.\n",
        "F1 score for training set: 0.8529.\n",
        "Made predictions in 0.0000 seconds.\n",
        "F1 score for test set: 0.7737.\n",
        " \n",
        "\n",
        "Training a LogisticRegression using a training set size of 200. . .\n",
        "Trained model in 0.0040 seconds\n",
        "Made predictions in 0.0000 seconds.\n",
        "F1 score for training set: 0.8269.\n",
        "Made predictions in 0.0000 seconds.\n",
        "F1 score for test set: 0.7857.\n",
        " \n",
        "\n",
        "Training a LogisticRegression using a training set size of 300. . .\n",
        "Trained model in 0.0050 seconds\n",
        "Made predictions in 0.0000 seconds.\n",
        "F1 score for training set: 0.8337.\n",
        "Made predictions in 0.0000 seconds.\n",
        "F1 score for test set: 0.7368.\n",
        " \n",
        "\n",
        "Classifier now being tested SVC \n",
        "\n",
        "Training a SVC using a training set size of 100. . .\n",
        "Trained model in 0.0010 seconds\n",
        "Made predictions in 0.0010 seconds.\n",
        "F1 score for training set: 0.8591.\n",
        "Made predictions in 0.0010 seconds.\n",
        "F1 score for test set: 0.8333.\n",
        " \n",
        "\n",
        "Training a SVC using a training set size of 200. . .\n",
        "Trained model in 0.0050 seconds\n",
        "Made predictions in 0.0030 seconds.\n",
        "F1 score for training set: 0.8581.\n",
        "Made predictions in 0.0020 seconds.\n",
        "F1 score for test set: 0.8408.\n",
        " \n",
        "\n",
        "Training a SVC using a training set size of 300. . .\n",
        "Trained model in 0.0110 seconds\n",
        "Made predictions in 0.0460 seconds.\n",
        "F1 score for training set: 0.8584.\n",
        "Made predictions in 0.0020 seconds.\n",
        "F1 score for test set: 0.8462.\n",
        " \n",
        "\n",
        "Classifier now being tested DecisionTreeClassifier \n",
        "\n",
        "Training a DecisionTreeClassifier using a training set size of 100. . .\n",
        "Trained model in 0.0010 seconds\n",
        "Made predictions in 0.0000 seconds.\n",
        "F1 score for training set: 1.0000.\n",
        "Made predictions in 0.0000 seconds.\n",
        "F1 score for test set: 0.6667.\n",
        " \n",
        "\n",
        "Training a DecisionTreeClassifier using a training set size of 200. . .\n",
        "Trained model in 0.0010 seconds\n",
        "Made predictions in 0.0010 seconds.\n",
        "F1 score for training set: 1.0000.\n",
        "Made predictions in 0.0000 seconds.\n",
        "F1 score for test set: 0.7704.\n",
        " \n",
        "\n",
        "Training a DecisionTreeClassifier using a training set size of 300. . .\n",
        "Trained model in 0.0030 seconds\n",
        "Made predictions in 0.0000 seconds.\n",
        "F1 score for training set: 1.0000.\n",
        "Made predictions in 0.0000 seconds.\n",
        "F1 score for test set: 0.6825.\n",
        " \n",
        "\n"
       ]
      }
     ],
     "prompt_number": 25
    },
    {
     "cell_type": "markdown",
     "metadata": {},
     "source": [
      "### Tabular Results\n",
      "Edit the cell below to see how a table can be designed in [Markdown](https://github.com/adam-p/markdown-here/wiki/Markdown-Cheatsheet#tables). You can record your results from above in the tables provided."
     ]
    },
    {
     "cell_type": "markdown",
     "metadata": {},
     "source": [
      "** Logistic Regression**  \n",
      "\n",
      "| Training Set Size | Training Time | Prediction Time (test) | F1 Score (train) | F1 Score (test) |\n",
      "| :---------------: | :---------------------: | :--------------------: | :--------------: | :-------------: |\n",
      "| 100               |    0.0020               |    0.0000              | 0.8529           |     0.7737      |\n",
      "| 200               |    0.0040               |    0.0000              | 0.8269           |      0.7857     |\n",
      "| 300               |    0.0050               |    0.0000              | 0.8337           |   0.7368        |\n",
      "\n",
      "** Support Vector Machines **  \n",
      "\n",
      "| Training Set Size | Training Time | Prediction Time (test) | F1 Score (train) | F1 Score (test) |\n",
      "| :---------------: | :---------------------: | :--------------------: | :--------------: | :-------------: |\n",
      "| 100               |   0.0010                |   0.0010                     |    0.8591              |  0.8333               |\n",
      "| 200               |   0.0050                |    0.0020                    |  0.8581                |   0.8408              |\n",
      "| 300               |   0.0110                |    0.0020                    |     0.8584             |   0.8462        |\n",
      "\n",
      "** Decision Tree Classifier **  \n",
      "\n",
      "| Training Set Size | Training Time | Prediction Time (test) | F1 Score (train) | F1 Score (test) |\n",
      "| :---------------: | :---------------------: | :--------------------: | :--------------: | :-------------: |\n",
      "| 100               |      0.0010                   |      0.000                  |      1           |     0.6667            |\n",
      "| 200               |   0.0010                      |           0.000             |       1           |     0.7704            |\n",
      "| 300               |   0.0030                      |            0.000            |        1          |     0.6825            |"
     ]
    },
    {
     "cell_type": "markdown",
     "metadata": {},
     "source": [
      "## Choosing the Best Model\n",
      "In this final section, you will choose from the three supervised learning models the *best* model to use on the student data. You will then perform a grid search optimization for the model over the entire training set (`X_train` and `y_train`) by tuning at least one parameter to improve upon the untuned model's F<sub>1</sub> score. "
     ]
    },
    {
     "cell_type": "markdown",
     "metadata": {},
     "source": [
      "### Question 3 - Chosing the Best Model\n",
      "*Based on the experiments you performed earlier, in one to two paragraphs, explain to the board of supervisors what single model you chose as the best model. Which model is generally the most appropriate based on the available data, limited resources, cost, and performance?*"
     ]
    },
    {
     "cell_type": "markdown",
     "metadata": {},
     "source": [
      "**Answer: **\n",
      "\n",
      "<font color='blue'> \n",
      "We conducted three tests with \"training set\" sizes (100, 200 and 300) and a fixed \"test set\" of size 95. These sets were renadomly generated. We used three classifiers (Logistic Regression, Support Vector Classifier and Decision tree) to do each of these 3 tests. So from the data of these 9 tests we can conclude that SVM's gives the best F1 scores on the test set and the second best test score for training data (second best only because the decision trees overfit and give perfect F1 score for training data). So in terms of performance the SVM classifier is the best of the three.\n",
      "<br>\n",
      "\n",
      "SVM is also a good choice considering the high number of attributes (48) we have for our data. It certainly is more expensive in terms of time, compared to the other two choices but if you look at the absolute values of training and testing time of SVM's we can see these numbers are really miniscule. So considering all the factors of resoruces, cost, performance and the kind of data we have, SVM is the clear choice of classifier  to give best results.\n",
      " \n",
      "</font>  \n",
      "<br>"
     ]
    },
    {
     "cell_type": "markdown",
     "metadata": {},
     "source": [
      "### Question 4 - Model in Layman's Terms\n",
      "*In one to two paragraphs, explain to the board of directors in layman's terms how the final model chosen is supposed to work. For example if you've chosen to use a decision tree or a support vector machine, how does the model go about making a prediction?*"
     ]
    },
    {
     "cell_type": "markdown",
     "metadata": {},
     "source": [
      "**Answer: ** \n",
      "<font color='blue'> \n",
      "SVM classifier relies on finding a hyperplane in at least a d-dimensional world when we have 'd' number of attributes. Hyperplane and d-dimensions might sound complex but in practice it is simple. Consider the simple case of there being just 1 feature and both data points lying at the same coordinate. Clearly we cannot mark a decision boundary here, however we can introduce another dimension based on some kernel function such that a sepration or cutoff point can be placed between them. This concept can help us to find a decision hyperplane when we have more attributes, that clearly seperates the data into two classes in a higher dimensional world. As a side note, do not let the word hyperplane worry you,  a hyperplane in one dimension is a  value, in two dimensions you get a line and in three dimensions you get a plane and so on.\n",
      "<br> \n",
      "\n",
      "In our case we have d=48 attributes and we want to find a decision boundary given by the hyperplane which will seperate the data into two classes one with student who passed and other with students who did not pass. SVM tries to pick a hyperplane which is furthest away from the nearest point of two classes. \n",
      "<br>  \n",
      "\n",
      "Once this hyperplane is found out by the SVM classifier then any new student's data will be a new coordinate in this higher  dimensinal world. And based on the location of this new coordinate with respect to the hyperplane we can predict what is the likely outcome (pass or fail). \n",
      "</font>  \n",
      "<br> \n"
     ]
    },
    {
     "cell_type": "markdown",
     "metadata": {},
     "source": [
      "### Implementation: Model Tuning\n",
      "Fine tune the chosen model. Use grid search (`GridSearchCV`) with at least one important parameter tuned with at least 3 different values. You will need to use the entire training set for this. In the code cell below, you will need to implement the following:\n",
      "- Import [`sklearn.grid_search.gridSearchCV`](http://scikit-learn.org/stable/modules/generated/sklearn.grid_search.GridSearchCV.html) and [`sklearn.metrics.make_scorer`](http://scikit-learn.org/stable/modules/generated/sklearn.metrics.make_scorer.html).\n",
      "- Create a dictionary of parameters you wish to tune for the chosen model.\n",
      " - Example: `parameters = {'parameter' : [list of values]}`.\n",
      "- Initialize the classifier you've chosen and store it in `clf`.\n",
      "- Create the F<sub>1</sub> scoring function using `make_scorer` and store it in `f1_scorer`.\n",
      " - Set the `pos_label` parameter to the correct value!\n",
      "- Perform grid search on the classifier `clf` using `f1_scorer` as the scoring method, and store it in `grid_obj`.\n",
      "- Fit the grid search object to the training data (`X_train`, `y_train`), and store it in `grid_obj`."
     ]
    },
    {
     "cell_type": "code",
     "collapsed": false,
     "input": [
      "# TODO: Import 'GridSearchCV' and 'make_scorer' \n",
      "from sklearn.metrics import make_scorer\n",
      "from sklearn.grid_search import GridSearchCV\n",
      "\n",
      "# TODO: Create the parameters list you wish to tune\n",
      "parameters = {'kernel':('linear','poly','rbf','sigmoid') , 'C':[1,2,5,10],'degree':[1,2,3,4,5,6],'gamma':['auto',0.01,0.05,0.15]}\n",
      "\n",
      "# TODO: Initialize the classifier\n",
      "clf = SVC()\n",
      "\n",
      "# TODO: Make an f1 scoring function using 'make_scorer' \n",
      "f1_scorer = make_scorer(f1_score, greater_is_better=True, pos_label='yes')\n",
      "\n",
      "# TODO: Perform grid search on the classifier using the f1_scorer as the scoring method\n",
      "grid_obj = GridSearchCV(clf,parameters,scoring=f1_scorer)\n",
      "\n",
      "# TODO: Fit the grid search object to the training data and find the optimal parameters\n",
      "start=time()\n",
      "grid_obj = grid_obj.fit(X_train,y_train)\n",
      "# Get the estimator\n",
      "clf = grid_obj.best_estimator_\n",
      "end=time()\n",
      "\n",
      "print \"The best estimator was found in {:.3f} seconds\".format( end -start ) \n",
      "\n",
      "# Report the final F1 score for training and testing after parameter tuning\n",
      "print \"Tuned model has a training F1 score of {:.4f}.\".format(predict_labels(clf, X_train, y_train))\n",
      "print \"Tuned model has a testing F1 score of {:.4f}.\".format(predict_labels(clf, X_test, y_test))"
     ],
     "language": "python",
     "metadata": {},
     "outputs": [
      {
       "output_type": "stream",
       "stream": "stdout",
       "text": [
        "The best estimator was found in 76.037 seconds\n",
        "Made predictions in 0.0080 seconds.\n",
        "Tuned model has a training F1 score of 0.9252.\n",
        "Made predictions in 0.0030 seconds.\n",
        "Tuned model has a testing F1 score of 0.8366.\n"
       ]
      }
     ],
     "prompt_number": 47
    },
    {
     "cell_type": "markdown",
     "metadata": {},
     "source": [
      "### Question 5 - Final F<sub>1</sub> Score\n",
      "*What is the final model's F<sub>1</sub> score for training and testing? How does that score compare to the untuned model?*"
     ]
    },
    {
     "cell_type": "code",
     "collapsed": false,
     "input": [
      "print \"Tuned parameters for the SVC model is {}\".format(grid_obj.best_params_)"
     ],
     "language": "python",
     "metadata": {},
     "outputs": [
      {
       "output_type": "stream",
       "stream": "stdout",
       "text": [
        "Tuned parameters for the SVC model is {'kernel': 'rbf', 'C': 1, 'gamma': 0.05, 'degree': 1}\n"
       ]
      }
     ],
     "prompt_number": 48
    },
    {
     "cell_type": "markdown",
     "metadata": {},
     "source": [
      "\n",
      "**Answer: **\n",
      "<font color='blue'> \n",
      "GridSearchCV took 76 seconds to find the most optimal  SVM model by oterating through various combinations of parameters we had fed. The parameters it finally picked were \"Radial Basis Function\" for kernel choice, with a gamma factor of 0.05.\n",
      "<br>\n",
      "\n",
      "The final F1 score with these tuned parameters is 0.9252 for entire training set of 300 and an F1 score of 0.8366 for the testing set of size 95. Compared to the untuned SVM model we have improved the training F1 score by a lot and the testing F1 score has remained more or less same. So we do certainly see an improvement with fine tuning of the SVM classifier for our data.\n",
      "</font>  \n",
      "<br>"
     ]
    },
    {
     "cell_type": "markdown",
     "metadata": {},
     "source": [
      "> **Note**: Once you have completed all of the code implementations and successfully answered each question above, you may finalize your work by exporting the iPython Notebook as an HTML document. You can do this by using the menu above and navigating to  \n",
      "**File -> Download as -> HTML (.html)**. Include the finished document along with this notebook as your submission."
     ]
    }
   ],
   "metadata": {}
  }
 ]
}